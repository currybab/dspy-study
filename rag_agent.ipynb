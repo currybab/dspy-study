{
 "cells": [
  {
   "cell_type": "code",
   "execution_count": 1,
   "id": "9678a311",
   "metadata": {},
   "outputs": [],
   "source": [
    "import dspy\n",
    "\n",
    "llama3 = dspy.LM(\n",
    "    \"groq/llama-3.1-8b-instant\",\n",
    "    temperature=0.7,\n",
    ")\n",
    "gpt4o = dspy.LM(\"openai/gpt-4o\", temperature=0.7)\n",
    "\n",
    "dspy.configure(lm=llama3)"
   ]
  },
  {
   "cell_type": "code",
   "execution_count": 5,
   "id": "462c8a69",
   "metadata": {},
   "outputs": [
    {
     "name": "stderr",
     "output_type": "stream",
     "text": [
      "Generating train split: 100%|██████████| 14296/14296 [00:00<00:00, 556195.52 examples/s]\n",
      "Generating test split: 100%|██████████| 4000/4000 [00:00<00:00, 552318.15 examples/s]\n"
     ]
    },
    {
     "ename": "KeyError",
     "evalue": "'supporting_facts'",
     "output_type": "error",
     "traceback": [
      "\u001b[31m---------------------------------------------------------------------------\u001b[39m",
      "\u001b[31mAttributeError\u001b[39m                            Traceback (most recent call last)",
      "\u001b[36mFile \u001b[39m\u001b[32m~/codingcoding/dspy/.venv/lib/python3.12/site-packages/dspy/datasets/dataloader.py:39\u001b[39m, in \u001b[36mDataLoader.from_huggingface\u001b[39m\u001b[34m(self, dataset_name, input_keys, fields, *args, **kwargs)\u001b[39m\n\u001b[32m     38\u001b[39m returned_split = {}\n\u001b[32m---> \u001b[39m\u001b[32m39\u001b[39m \u001b[38;5;28;01mfor\u001b[39;00m split_name \u001b[38;5;129;01min\u001b[39;00m \u001b[43mdataset\u001b[49m\u001b[43m.\u001b[49m\u001b[43mkeys\u001b[49m():\n\u001b[32m     40\u001b[39m     \u001b[38;5;28;01mif\u001b[39;00m fields:\n",
      "\u001b[31mAttributeError\u001b[39m: 'Dataset' object has no attribute 'keys'",
      "\nDuring handling of the above exception, another exception occurred:\n",
      "\u001b[31mKeyError\u001b[39m                                  Traceback (most recent call last)",
      "\u001b[36mCell\u001b[39m\u001b[36m \u001b[39m\u001b[32mIn[5]\u001b[39m\u001b[32m, line 7\u001b[39m\n\u001b[32m      2\u001b[39m \u001b[38;5;28;01mfrom\u001b[39;00m\u001b[38;5;250m \u001b[39m\u001b[34;01mdspy\u001b[39;00m\u001b[34;01m.\u001b[39;00m\u001b[34;01mdatasets\u001b[39;00m\u001b[38;5;250m \u001b[39m\u001b[38;5;28;01mimport\u001b[39;00m DataLoader\n\u001b[32m      4\u001b[39m kwargs = \u001b[38;5;28mdict\u001b[39m(\n\u001b[32m      5\u001b[39m     fields=(\u001b[33m\"\u001b[39m\u001b[33mclaim\u001b[39m\u001b[33m\"\u001b[39m, \u001b[33m\"\u001b[39m\u001b[33msupporting_facts\u001b[39m\u001b[33m\"\u001b[39m, \u001b[33m\"\u001b[39m\u001b[33mhpqa_id\u001b[39m\u001b[33m\"\u001b[39m, \u001b[33m\"\u001b[39m\u001b[33mnum_hops\u001b[39m\u001b[33m\"\u001b[39m), input_keys=(\u001b[33m\"\u001b[39m\u001b[33mclaim\u001b[39m\u001b[33m\"\u001b[39m,)\n\u001b[32m      6\u001b[39m )\n\u001b[32m----> \u001b[39m\u001b[32m7\u001b[39m hover = \u001b[43mDataLoader\u001b[49m\u001b[43m(\u001b[49m\u001b[43m)\u001b[49m\u001b[43m.\u001b[49m\u001b[43mfrom_huggingface\u001b[49m\u001b[43m(\u001b[49m\n\u001b[32m      8\u001b[39m \u001b[43m    \u001b[49m\u001b[43mdataset_name\u001b[49m\u001b[43m=\u001b[49m\u001b[33;43m\"\u001b[39;49m\u001b[33;43mDzeniks/hover\u001b[39;49m\u001b[33;43m\"\u001b[39;49m\u001b[43m,\u001b[49m\u001b[43m \u001b[49m\u001b[43msplit\u001b[49m\u001b[43m=\u001b[49m\u001b[33;43m\"\u001b[39;49m\u001b[33;43mtrain\u001b[39;49m\u001b[33;43m\"\u001b[39;49m\u001b[43m,\u001b[49m\u001b[43m \u001b[49m\u001b[43m*\u001b[49m\u001b[43m*\u001b[49m\u001b[43mkwargs\u001b[49m\n\u001b[32m      9\u001b[39m \u001b[43m)\u001b[49m\n\u001b[32m     11\u001b[39m hpqa_ids = \u001b[38;5;28mset\u001b[39m()\n\u001b[32m     12\u001b[39m hover = [\n\u001b[32m     13\u001b[39m     dspy.Example(\n\u001b[32m     14\u001b[39m         claim=x.claim, titles=\u001b[38;5;28mlist\u001b[39m(\u001b[38;5;28mset\u001b[39m([y[\u001b[33m\"\u001b[39m\u001b[33mkey\u001b[39m\u001b[33m\"\u001b[39m] \u001b[38;5;28;01mfor\u001b[39;00m y \u001b[38;5;129;01min\u001b[39;00m x.supporting_facts]))\n\u001b[32m   (...)\u001b[39m\u001b[32m     19\u001b[39m     \u001b[38;5;129;01mand\u001b[39;00m \u001b[38;5;129;01mnot\u001b[39;00m hpqa_ids.add(x[\u001b[33m\"\u001b[39m\u001b[33mhpqa_id\u001b[39m\u001b[33m\"\u001b[39m])\n\u001b[32m     20\u001b[39m ]\n",
      "\u001b[36mFile \u001b[39m\u001b[32m~/codingcoding/dspy/.venv/lib/python3.12/site-packages/dspy/datasets/dataloader.py:55\u001b[39m, in \u001b[36mDataLoader.from_huggingface\u001b[39m\u001b[34m(self, dataset_name, input_keys, fields, *args, **kwargs)\u001b[39m\n\u001b[32m     52\u001b[39m \u001b[38;5;28;01mexcept\u001b[39;00m \u001b[38;5;167;01mAttributeError\u001b[39;00m:\n\u001b[32m     53\u001b[39m     \u001b[38;5;28;01mif\u001b[39;00m fields:\n\u001b[32m     54\u001b[39m         \u001b[38;5;28;01mreturn\u001b[39;00m [\n\u001b[32m---> \u001b[39m\u001b[32m55\u001b[39m             dspy.Example({field: \u001b[43mrow\u001b[49m\u001b[43m[\u001b[49m\u001b[43mfield\u001b[49m\u001b[43m]\u001b[49m \u001b[38;5;28;01mfor\u001b[39;00m field \u001b[38;5;129;01min\u001b[39;00m fields}).with_inputs(*input_keys) \u001b[38;5;28;01mfor\u001b[39;00m row \u001b[38;5;129;01min\u001b[39;00m dataset\n\u001b[32m     56\u001b[39m         ]\n\u001b[32m     57\u001b[39m     \u001b[38;5;28;01melse\u001b[39;00m:\n\u001b[32m     58\u001b[39m         \u001b[38;5;28;01mreturn\u001b[39;00m [\n\u001b[32m     59\u001b[39m             dspy.Example({field: row[field] \u001b[38;5;28;01mfor\u001b[39;00m field \u001b[38;5;129;01min\u001b[39;00m row.keys()}).with_inputs(*input_keys)\n\u001b[32m     60\u001b[39m             \u001b[38;5;28;01mfor\u001b[39;00m row \u001b[38;5;129;01min\u001b[39;00m dataset\n\u001b[32m     61\u001b[39m         ]\n",
      "\u001b[31mKeyError\u001b[39m: 'supporting_facts'"
     ]
    }
   ],
   "source": [
    "import random\n",
    "from dspy.datasets import DataLoader\n",
    "\n",
    "kwargs = dict(\n",
    "    fields=(\"claim\", \"supporting_facts\", \"hpqa_id\", \"num_hops\"), input_keys=(\"claim\",)\n",
    ")\n",
    "hover = DataLoader().from_huggingface(\n",
    "    dataset_name=\"Dzeniks/hover\", split=\"train\", **kwargs\n",
    ")\n",
    "\n",
    "hpqa_ids = set()\n",
    "hover = [\n",
    "    dspy.Example(\n",
    "        claim=x.claim, titles=list(set([y[\"key\"] for y in x.supporting_facts]))\n",
    "    ).with_inputs(\"claim\")\n",
    "    for x in hover\n",
    "    if x[\"num_hops\"] == 3\n",
    "    and x[\"hpqa_id\"] not in hpqa_ids\n",
    "    and not hpqa_ids.add(x[\"hpqa_id\"])\n",
    "]\n",
    "\n",
    "random.Random(0).shuffle(hover)\n",
    "trainset, devset, testset = hover[:100], hover[100:200], hover[650:]"
   ]
  },
  {
   "cell_type": "code",
   "execution_count": null,
   "id": "f79f4437",
   "metadata": {},
   "outputs": [],
   "source": []
  }
 ],
 "metadata": {
  "kernelspec": {
   "display_name": ".venv",
   "language": "python",
   "name": "python3"
  },
  "language_info": {
   "codemirror_mode": {
    "name": "ipython",
    "version": 3
   },
   "file_extension": ".py",
   "mimetype": "text/x-python",
   "name": "python",
   "nbconvert_exporter": "python",
   "pygments_lexer": "ipython3",
   "version": "3.12.8"
  }
 },
 "nbformat": 4,
 "nbformat_minor": 5
}
